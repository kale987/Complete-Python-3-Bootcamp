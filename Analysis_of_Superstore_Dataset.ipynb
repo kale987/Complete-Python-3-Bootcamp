{
  "nbformat": 4,
  "nbformat_minor": 0,
  "metadata": {
    "colab": {
      "provenance": [],
      "include_colab_link": true
    },
    "kernelspec": {
      "name": "python3",
      "display_name": "Python 3"
    },
    "language_info": {
      "name": "python"
    }
  },
  "cells": [
    {
      "cell_type": "markdown",
      "metadata": {
        "id": "view-in-github",
        "colab_type": "text"
      },
      "source": [
        "<a href=\"https://colab.research.google.com/github/kale987/Complete-Python-3-Bootcamp/blob/master/Analysis_of_Superstore_Dataset.ipynb\" target=\"_parent\"><img src=\"https://colab.research.google.com/assets/colab-badge.svg\" alt=\"Open In Colab\"/></a>"
      ]
    },
    {
      "cell_type": "markdown",
      "source": [
        "# Analysis of SuperStore  Dataset"
      ],
      "metadata": {
        "id": "gu8Kp1r6qpN3"
      }
    },
    {
      "cell_type": "markdown",
      "source": [
        "##Content\n",
        "      Used Libraries\n",
        "\n",
        "      Load and Check Data\n",
        "\n",
        "      Data Cleaning\n",
        "\n",
        "      Understanding Data\n",
        "\n",
        "      Profit and Sales Analysis of Products\n",
        "\n",
        "      Geo-Analysis based on profits and sales\n",
        "\n",
        "      Profit and Sales Anlysis (based on the category)\n",
        "\n",
        "      Conclusion\n"
      ],
      "metadata": {
        "id": "zL0FIv6breQj"
      }
    },
    {
      "cell_type": "markdown",
      "source": [
        "## Used Libraries"
      ],
      "metadata": {
        "id": "5BXtTxs5sCgd"
      }
    },
    {
      "cell_type": "code",
      "execution_count": 1,
      "metadata": {
        "id": "HER84rz2ur9Q"
      },
      "outputs": [],
      "source": [
        "import numpy as np\n",
        "import pandas as pd\n",
        "import matplotlib.pyplot as plt\n",
        "import seaborn as sns\n",
        "import plotly.express as px"
      ]
    },
    {
      "cell_type": "markdown",
      "source": [
        "## Load Datasset"
      ],
      "metadata": {
        "id": "16i4atAasJtc"
      }
    },
    {
      "cell_type": "code",
      "source": [
        "path=\"/content/drive/MyDrive/dataset/SampleSuperstore.csv\"\n",
        "dataset=pd.read_csv(path)"
      ],
      "metadata": {
        "id": "qN5mgwKLvceo",
        "colab": {
          "base_uri": "https://localhost:8080/",
          "height": 328
        },
        "outputId": "c06032c8-43cd-4973-e84d-3a1e37a67813"
      },
      "execution_count": 2,
      "outputs": [
        {
          "output_type": "error",
          "ename": "FileNotFoundError",
          "evalue": "ignored",
          "traceback": [
            "\u001b[0;31m---------------------------------------------------------------------------\u001b[0m",
            "\u001b[0;31mFileNotFoundError\u001b[0m                         Traceback (most recent call last)",
            "\u001b[0;32m<ipython-input-2-01d8cfa5fa89>\u001b[0m in \u001b[0;36m<cell line: 2>\u001b[0;34m()\u001b[0m\n\u001b[1;32m      1\u001b[0m \u001b[0mpath\u001b[0m\u001b[0;34m=\u001b[0m\u001b[0;34m\"/content/drive/MyDrive/dataset/SampleSuperstore.csv\"\u001b[0m\u001b[0;34m\u001b[0m\u001b[0;34m\u001b[0m\u001b[0m\n\u001b[0;32m----> 2\u001b[0;31m \u001b[0mdataset\u001b[0m\u001b[0;34m=\u001b[0m\u001b[0mpd\u001b[0m\u001b[0;34m.\u001b[0m\u001b[0mread_csv\u001b[0m\u001b[0;34m(\u001b[0m\u001b[0mpath\u001b[0m\u001b[0;34m)\u001b[0m\u001b[0;34m\u001b[0m\u001b[0;34m\u001b[0m\u001b[0m\n\u001b[0m",
            "\u001b[0;32m/usr/local/lib/python3.10/dist-packages/pandas/util/_decorators.py\u001b[0m in \u001b[0;36mwrapper\u001b[0;34m(*args, **kwargs)\u001b[0m\n\u001b[1;32m    209\u001b[0m                 \u001b[0;32melse\u001b[0m\u001b[0;34m:\u001b[0m\u001b[0;34m\u001b[0m\u001b[0;34m\u001b[0m\u001b[0m\n\u001b[1;32m    210\u001b[0m                     \u001b[0mkwargs\u001b[0m\u001b[0;34m[\u001b[0m\u001b[0mnew_arg_name\u001b[0m\u001b[0;34m]\u001b[0m \u001b[0;34m=\u001b[0m \u001b[0mnew_arg_value\u001b[0m\u001b[0;34m\u001b[0m\u001b[0;34m\u001b[0m\u001b[0m\n\u001b[0;32m--> 211\u001b[0;31m             \u001b[0;32mreturn\u001b[0m \u001b[0mfunc\u001b[0m\u001b[0;34m(\u001b[0m\u001b[0;34m*\u001b[0m\u001b[0margs\u001b[0m\u001b[0;34m,\u001b[0m \u001b[0;34m**\u001b[0m\u001b[0mkwargs\u001b[0m\u001b[0;34m)\u001b[0m\u001b[0;34m\u001b[0m\u001b[0;34m\u001b[0m\u001b[0m\n\u001b[0m\u001b[1;32m    212\u001b[0m \u001b[0;34m\u001b[0m\u001b[0m\n\u001b[1;32m    213\u001b[0m         \u001b[0;32mreturn\u001b[0m \u001b[0mcast\u001b[0m\u001b[0;34m(\u001b[0m\u001b[0mF\u001b[0m\u001b[0;34m,\u001b[0m \u001b[0mwrapper\u001b[0m\u001b[0;34m)\u001b[0m\u001b[0;34m\u001b[0m\u001b[0;34m\u001b[0m\u001b[0m\n",
            "\u001b[0;32m/usr/local/lib/python3.10/dist-packages/pandas/util/_decorators.py\u001b[0m in \u001b[0;36mwrapper\u001b[0;34m(*args, **kwargs)\u001b[0m\n\u001b[1;32m    329\u001b[0m                     \u001b[0mstacklevel\u001b[0m\u001b[0;34m=\u001b[0m\u001b[0mfind_stack_level\u001b[0m\u001b[0;34m(\u001b[0m\u001b[0;34m)\u001b[0m\u001b[0;34m,\u001b[0m\u001b[0;34m\u001b[0m\u001b[0;34m\u001b[0m\u001b[0m\n\u001b[1;32m    330\u001b[0m                 )\n\u001b[0;32m--> 331\u001b[0;31m             \u001b[0;32mreturn\u001b[0m \u001b[0mfunc\u001b[0m\u001b[0;34m(\u001b[0m\u001b[0;34m*\u001b[0m\u001b[0margs\u001b[0m\u001b[0;34m,\u001b[0m \u001b[0;34m**\u001b[0m\u001b[0mkwargs\u001b[0m\u001b[0;34m)\u001b[0m\u001b[0;34m\u001b[0m\u001b[0;34m\u001b[0m\u001b[0m\n\u001b[0m\u001b[1;32m    332\u001b[0m \u001b[0;34m\u001b[0m\u001b[0m\n\u001b[1;32m    333\u001b[0m         \u001b[0;31m# error: \"Callable[[VarArg(Any), KwArg(Any)], Any]\" has no\u001b[0m\u001b[0;34m\u001b[0m\u001b[0;34m\u001b[0m\u001b[0m\n",
            "\u001b[0;32m/usr/local/lib/python3.10/dist-packages/pandas/io/parsers/readers.py\u001b[0m in \u001b[0;36mread_csv\u001b[0;34m(filepath_or_buffer, sep, delimiter, header, names, index_col, usecols, squeeze, prefix, mangle_dupe_cols, dtype, engine, converters, true_values, false_values, skipinitialspace, skiprows, skipfooter, nrows, na_values, keep_default_na, na_filter, verbose, skip_blank_lines, parse_dates, infer_datetime_format, keep_date_col, date_parser, dayfirst, cache_dates, iterator, chunksize, compression, thousands, decimal, lineterminator, quotechar, quoting, doublequote, escapechar, comment, encoding, encoding_errors, dialect, error_bad_lines, warn_bad_lines, on_bad_lines, delim_whitespace, low_memory, memory_map, float_precision, storage_options)\u001b[0m\n\u001b[1;32m    948\u001b[0m     \u001b[0mkwds\u001b[0m\u001b[0;34m.\u001b[0m\u001b[0mupdate\u001b[0m\u001b[0;34m(\u001b[0m\u001b[0mkwds_defaults\u001b[0m\u001b[0;34m)\u001b[0m\u001b[0;34m\u001b[0m\u001b[0;34m\u001b[0m\u001b[0m\n\u001b[1;32m    949\u001b[0m \u001b[0;34m\u001b[0m\u001b[0m\n\u001b[0;32m--> 950\u001b[0;31m     \u001b[0;32mreturn\u001b[0m \u001b[0m_read\u001b[0m\u001b[0;34m(\u001b[0m\u001b[0mfilepath_or_buffer\u001b[0m\u001b[0;34m,\u001b[0m \u001b[0mkwds\u001b[0m\u001b[0;34m)\u001b[0m\u001b[0;34m\u001b[0m\u001b[0;34m\u001b[0m\u001b[0m\n\u001b[0m\u001b[1;32m    951\u001b[0m \u001b[0;34m\u001b[0m\u001b[0m\n\u001b[1;32m    952\u001b[0m \u001b[0;34m\u001b[0m\u001b[0m\n",
            "\u001b[0;32m/usr/local/lib/python3.10/dist-packages/pandas/io/parsers/readers.py\u001b[0m in \u001b[0;36m_read\u001b[0;34m(filepath_or_buffer, kwds)\u001b[0m\n\u001b[1;32m    603\u001b[0m \u001b[0;34m\u001b[0m\u001b[0m\n\u001b[1;32m    604\u001b[0m     \u001b[0;31m# Create the parser.\u001b[0m\u001b[0;34m\u001b[0m\u001b[0;34m\u001b[0m\u001b[0m\n\u001b[0;32m--> 605\u001b[0;31m     \u001b[0mparser\u001b[0m \u001b[0;34m=\u001b[0m \u001b[0mTextFileReader\u001b[0m\u001b[0;34m(\u001b[0m\u001b[0mfilepath_or_buffer\u001b[0m\u001b[0;34m,\u001b[0m \u001b[0;34m**\u001b[0m\u001b[0mkwds\u001b[0m\u001b[0;34m)\u001b[0m\u001b[0;34m\u001b[0m\u001b[0;34m\u001b[0m\u001b[0m\n\u001b[0m\u001b[1;32m    606\u001b[0m \u001b[0;34m\u001b[0m\u001b[0m\n\u001b[1;32m    607\u001b[0m     \u001b[0;32mif\u001b[0m \u001b[0mchunksize\u001b[0m \u001b[0;32mor\u001b[0m \u001b[0miterator\u001b[0m\u001b[0;34m:\u001b[0m\u001b[0;34m\u001b[0m\u001b[0;34m\u001b[0m\u001b[0m\n",
            "\u001b[0;32m/usr/local/lib/python3.10/dist-packages/pandas/io/parsers/readers.py\u001b[0m in \u001b[0;36m__init__\u001b[0;34m(self, f, engine, **kwds)\u001b[0m\n\u001b[1;32m   1440\u001b[0m \u001b[0;34m\u001b[0m\u001b[0m\n\u001b[1;32m   1441\u001b[0m         \u001b[0mself\u001b[0m\u001b[0;34m.\u001b[0m\u001b[0mhandles\u001b[0m\u001b[0;34m:\u001b[0m \u001b[0mIOHandles\u001b[0m \u001b[0;34m|\u001b[0m \u001b[0;32mNone\u001b[0m \u001b[0;34m=\u001b[0m \u001b[0;32mNone\u001b[0m\u001b[0;34m\u001b[0m\u001b[0;34m\u001b[0m\u001b[0m\n\u001b[0;32m-> 1442\u001b[0;31m         \u001b[0mself\u001b[0m\u001b[0;34m.\u001b[0m\u001b[0m_engine\u001b[0m \u001b[0;34m=\u001b[0m \u001b[0mself\u001b[0m\u001b[0;34m.\u001b[0m\u001b[0m_make_engine\u001b[0m\u001b[0;34m(\u001b[0m\u001b[0mf\u001b[0m\u001b[0;34m,\u001b[0m \u001b[0mself\u001b[0m\u001b[0;34m.\u001b[0m\u001b[0mengine\u001b[0m\u001b[0;34m)\u001b[0m\u001b[0;34m\u001b[0m\u001b[0;34m\u001b[0m\u001b[0m\n\u001b[0m\u001b[1;32m   1443\u001b[0m \u001b[0;34m\u001b[0m\u001b[0m\n\u001b[1;32m   1444\u001b[0m     \u001b[0;32mdef\u001b[0m \u001b[0mclose\u001b[0m\u001b[0;34m(\u001b[0m\u001b[0mself\u001b[0m\u001b[0;34m)\u001b[0m \u001b[0;34m->\u001b[0m \u001b[0;32mNone\u001b[0m\u001b[0;34m:\u001b[0m\u001b[0;34m\u001b[0m\u001b[0;34m\u001b[0m\u001b[0m\n",
            "\u001b[0;32m/usr/local/lib/python3.10/dist-packages/pandas/io/parsers/readers.py\u001b[0m in \u001b[0;36m_make_engine\u001b[0;34m(self, f, engine)\u001b[0m\n\u001b[1;32m   1733\u001b[0m                 \u001b[0;32mif\u001b[0m \u001b[0;34m\"b\"\u001b[0m \u001b[0;32mnot\u001b[0m \u001b[0;32min\u001b[0m \u001b[0mmode\u001b[0m\u001b[0;34m:\u001b[0m\u001b[0;34m\u001b[0m\u001b[0;34m\u001b[0m\u001b[0m\n\u001b[1;32m   1734\u001b[0m                     \u001b[0mmode\u001b[0m \u001b[0;34m+=\u001b[0m \u001b[0;34m\"b\"\u001b[0m\u001b[0;34m\u001b[0m\u001b[0;34m\u001b[0m\u001b[0m\n\u001b[0;32m-> 1735\u001b[0;31m             self.handles = get_handle(\n\u001b[0m\u001b[1;32m   1736\u001b[0m                 \u001b[0mf\u001b[0m\u001b[0;34m,\u001b[0m\u001b[0;34m\u001b[0m\u001b[0;34m\u001b[0m\u001b[0m\n\u001b[1;32m   1737\u001b[0m                 \u001b[0mmode\u001b[0m\u001b[0;34m,\u001b[0m\u001b[0;34m\u001b[0m\u001b[0;34m\u001b[0m\u001b[0m\n",
            "\u001b[0;32m/usr/local/lib/python3.10/dist-packages/pandas/io/common.py\u001b[0m in \u001b[0;36mget_handle\u001b[0;34m(path_or_buf, mode, encoding, compression, memory_map, is_text, errors, storage_options)\u001b[0m\n\u001b[1;32m    854\u001b[0m         \u001b[0;32mif\u001b[0m \u001b[0mioargs\u001b[0m\u001b[0;34m.\u001b[0m\u001b[0mencoding\u001b[0m \u001b[0;32mand\u001b[0m \u001b[0;34m\"b\"\u001b[0m \u001b[0;32mnot\u001b[0m \u001b[0;32min\u001b[0m \u001b[0mioargs\u001b[0m\u001b[0;34m.\u001b[0m\u001b[0mmode\u001b[0m\u001b[0;34m:\u001b[0m\u001b[0;34m\u001b[0m\u001b[0;34m\u001b[0m\u001b[0m\n\u001b[1;32m    855\u001b[0m             \u001b[0;31m# Encoding\u001b[0m\u001b[0;34m\u001b[0m\u001b[0;34m\u001b[0m\u001b[0m\n\u001b[0;32m--> 856\u001b[0;31m             handle = open(\n\u001b[0m\u001b[1;32m    857\u001b[0m                 \u001b[0mhandle\u001b[0m\u001b[0;34m,\u001b[0m\u001b[0;34m\u001b[0m\u001b[0;34m\u001b[0m\u001b[0m\n\u001b[1;32m    858\u001b[0m                 \u001b[0mioargs\u001b[0m\u001b[0;34m.\u001b[0m\u001b[0mmode\u001b[0m\u001b[0;34m,\u001b[0m\u001b[0;34m\u001b[0m\u001b[0;34m\u001b[0m\u001b[0m\n",
            "\u001b[0;31mFileNotFoundError\u001b[0m: [Errno 2] No such file or directory: '/content/drive/MyDrive/dataset/SampleSuperstore.csv'"
          ]
        }
      ]
    },
    {
      "cell_type": "markdown",
      "source": [
        "## Understanding the Data"
      ],
      "metadata": {
        "id": "m094ArgytVUf"
      }
    },
    {
      "cell_type": "code",
      "source": [
        "dataset"
      ],
      "metadata": {
        "id": "TWL7Vt6mwIEB"
      },
      "execution_count": null,
      "outputs": []
    },
    {
      "cell_type": "code",
      "source": [
        "dataset.head()"
      ],
      "metadata": {
        "id": "ckT_HbBSwQ22"
      },
      "execution_count": null,
      "outputs": []
    },
    {
      "cell_type": "code",
      "source": [
        "#details about dataset\n",
        "dataset.info()"
      ],
      "metadata": {
        "id": "LM2StLhVwXsQ"
      },
      "execution_count": null,
      "outputs": []
    },
    {
      "cell_type": "code",
      "source": [
        "#details about the dataset\n",
        "dataset.describe()"
      ],
      "metadata": {
        "id": "habKJiGQwaq4"
      },
      "execution_count": null,
      "outputs": []
    },
    {
      "cell_type": "markdown",
      "source": [
        "##Data Cleaning"
      ],
      "metadata": {
        "id": "mZOO9G411UaU"
      }
    },
    {
      "cell_type": "code",
      "source": [
        "dataset.duplicated().sum()#getting the duplicate values"
      ],
      "metadata": {
        "id": "ik3XxGF48NZM"
      },
      "execution_count": null,
      "outputs": []
    },
    {
      "cell_type": "code",
      "source": [
        "dataset.drop_duplicates(inplace=True)#taking care of duplicate values"
      ],
      "metadata": {
        "id": "-K8etdoi8aBU"
      },
      "execution_count": null,
      "outputs": []
    },
    {
      "cell_type": "code",
      "source": [
        "dataset.duplicated().sum()"
      ],
      "metadata": {
        "id": "SyOIhX_c8oq-"
      },
      "execution_count": null,
      "outputs": []
    },
    {
      "cell_type": "code",
      "source": [
        "for feature in dataset.columns:\n",
        "    print(feature,':',dataset[feature].nunique())#to find the unique values in each columns"
      ],
      "metadata": {
        "id": "2rBJVINxwepA"
      },
      "execution_count": null,
      "outputs": []
    },
    {
      "cell_type": "markdown",
      "source": [
        "## Profit and Sales Analysis"
      ],
      "metadata": {
        "id": "NzR9aCbIsRC9"
      }
    },
    {
      "cell_type": "markdown",
      "source": [
        "## Top Products in Sales"
      ],
      "metadata": {
        "id": "yLX-zUezzXAq"
      }
    },
    {
      "cell_type": "code",
      "source": [
        "# Group the data by Product Name and sum up the sales by product\n",
        "product_group = dataset.groupby([\"Sub-Category\"]).sum()[\"Sales\"]"
      ],
      "metadata": {
        "id": "LsBe3ERxxRwg"
      },
      "execution_count": null,
      "outputs": []
    },
    {
      "cell_type": "code",
      "source": [
        "product_group.head()"
      ],
      "metadata": {
        "id": "uEjyB9QQxhcp"
      },
      "execution_count": null,
      "outputs": []
    },
    {
      "cell_type": "markdown",
      "source": [
        "## Top 5 Selling Products"
      ],
      "metadata": {
        "id": "gvIsjO0Q0PWM"
      }
    },
    {
      "cell_type": "code",
      "source": [
        "# Sort the data by sales in descending order\n",
        "top_selling_products = product_group.sort_values(ascending=False)\n",
        "top5_selling_products=top_selling_products[0:5]"
      ],
      "metadata": {
        "id": "p7zuah_ryUnt"
      },
      "execution_count": null,
      "outputs": []
    },
    {
      "cell_type": "code",
      "source": [
        "top5_selling_products"
      ],
      "metadata": {
        "id": "6tfNrtlcyxGE"
      },
      "execution_count": null,
      "outputs": []
    },
    {
      "cell_type": "code",
      "source": [
        "top5_selling_products.plot(kind=\"bar\")\n",
        "\n",
        "# title\n",
        "plt.title(\"Top 5 Selling Products in Superstore\")\n",
        "\n",
        "#  labels for the x and y axes\n",
        "plt.xlabel(\"Product Name\")\n",
        "plt.ylabel(\"Total Sales\")\n",
        "\n",
        "# plot\n",
        "plt.show()"
      ],
      "metadata": {
        "id": "WRe2M1Pqy0Qx"
      },
      "execution_count": null,
      "outputs": []
    },
    {
      "cell_type": "markdown",
      "source": [
        "The top 5 selling products consist of everyday items such as phones, chairs, storage solutions, tables, and binders. This suggests that there is consistent demand for these products, making them essential commodities in the market."
      ],
      "metadata": {
        "id": "h28MTw6QpTNO"
      }
    },
    {
      "cell_type": "markdown",
      "source": [
        "##Top 5 Profit Products"
      ],
      "metadata": {
        "id": "pAUPn519zRtf"
      }
    },
    {
      "cell_type": "code",
      "source": [
        "#grouping the data according to profit\n",
        "product_group = dataset.groupby([\"Sub-Category\"]).sum()[\"Profit\"]\n",
        "\n",
        "top_profit_products = product_group.sort_values(ascending=False)\n",
        "\n",
        "top5_profit_products =pd.DataFrame(top_profit_products[:5])"
      ],
      "metadata": {
        "id": "VvQSaoq9zIAl"
      },
      "execution_count": null,
      "outputs": []
    },
    {
      "cell_type": "code",
      "source": [
        "top5_profit_products"
      ],
      "metadata": {
        "id": "psZEtEMzz1vN"
      },
      "execution_count": null,
      "outputs": []
    },
    {
      "cell_type": "code",
      "source": [
        "top5_profit_products.plot(kind=\"bar\")\n",
        "\n",
        "plt.title(\"Top 5 Profit Products in Superstore\")\n",
        "\n",
        "plt.xlabel(\"Product Name\")\n",
        "plt.ylabel(\"Total Profit\")\n",
        "\n",
        "plt.show()"
      ],
      "metadata": {
        "id": "VIX-uLbi0InR"
      },
      "execution_count": null,
      "outputs": []
    },
    {
      "cell_type": "markdown",
      "source": [
        "the top 5 profit products differ slightly from the top-selling products, with copiers taking the lead in terms of generating profits. This could be due to higher margins or the sale of premium models within this category. Phones, accessories, papers, and binders also rank high in terms of profitability, indicating that these items are not only popular but also lucrative for the Superstore."
      ],
      "metadata": {
        "id": "ZTA_OfIBpiKo"
      }
    },
    {
      "cell_type": "markdown",
      "source": [
        "##City wih most Profits"
      ],
      "metadata": {
        "id": "2kCyWtup2u7g"
      }
    },
    {
      "cell_type": "code",
      "source": [
        "dataset[\"City\"].unique()"
      ],
      "metadata": {
        "id": "jxQeQAvS1PuV"
      },
      "execution_count": null,
      "outputs": []
    },
    {
      "cell_type": "code",
      "source": [
        "cities_profit=pd.DataFrame(dataset.groupby(\"City\")[\"Profit\"].sum())\n",
        "cities_profit.reset_index(inplace=True)"
      ],
      "metadata": {
        "id": "WU1tpYGn0M7C"
      },
      "execution_count": null,
      "outputs": []
    },
    {
      "cell_type": "code",
      "source": [
        "cities_profit.head(10)"
      ],
      "metadata": {
        "id": "Fhb-4w2k1c1R"
      },
      "execution_count": null,
      "outputs": []
    },
    {
      "cell_type": "code",
      "execution_count": null,
      "metadata": {
        "id": "a3fRiYc7BKbG"
      },
      "outputs": [],
      "source": [
        "fig = px.treemap(cities_profit,\n",
        "                 path=['City' ,'Profit'],\n",
        "                 color_continuous_scale='deep',\n",
        "                 values='Profit',color='Profit')\n",
        "\n",
        "fig.update_layout(width=1000, height=500)\n",
        "fig.show()"
      ]
    },
    {
      "cell_type": "markdown",
      "source": [
        "The top 5 cities with the most profits are dominated by major urban centers, with New York City and Los Angeles leading the pack. These cities likely have strong consumer markets and robust economies, contributing to their high-profit margins."
      ],
      "metadata": {
        "id": "SxGNm2Tho5KK"
      }
    },
    {
      "cell_type": "markdown",
      "metadata": {
        "id": "u-lgxbmoCS50"
      },
      "source": [
        "##States by Most Profit"
      ]
    },
    {
      "cell_type": "code",
      "execution_count": null,
      "metadata": {
        "id": "VMYdRZLGCSSb"
      },
      "outputs": [],
      "source": [
        "dataset[\"State\"].unique()"
      ]
    },
    {
      "cell_type": "code",
      "execution_count": null,
      "metadata": {
        "id": "3Ap6Wsm2Bme2"
      },
      "outputs": [],
      "source": [
        "state_profit=pd.DataFrame(dataset.groupby(\"State\")[\"Profit\"].sum())\n",
        "state_profit.reset_index(inplace=True)"
      ]
    },
    {
      "cell_type": "code",
      "execution_count": null,
      "metadata": {
        "id": "7nB7ukutDHz6"
      },
      "outputs": [],
      "source": [
        "state_profit=state_profit.sort_values(by=\"Profit\",ascending=False)\n",
        "state_profit.head(10)"
      ]
    },
    {
      "cell_type": "code",
      "execution_count": null,
      "metadata": {
        "id": "fv9TnaYRDZgZ"
      },
      "outputs": [],
      "source": [
        "fig=px.treemap(state_profit,path=[\"State\",\"Profit\"],color_continuous_scale=\"sunset\",\n",
        "               values=\"Profit\",color=\"Profit\")\n",
        "fig.update_layout(width=1000,height=500)\n",
        "fig.show()"
      ]
    },
    {
      "cell_type": "markdown",
      "source": [
        "The top 5 states with the most profits include California and New York, which are two of the most populous and economically influential states in the US. Washington, Michigan, and Virginia also feature on this list, indicating a diverse spread of profitable regions across the country."
      ],
      "metadata": {
        "id": "ttHlPbHoo-GA"
      }
    },
    {
      "cell_type": "markdown",
      "source": [
        "## Sales and Profits Comparison between the different regions."
      ],
      "metadata": {
        "id": "3Z-uUhJmkSQ5"
      }
    },
    {
      "cell_type": "code",
      "source": [
        "dataset.Region.value_counts()"
      ],
      "metadata": {
        "id": "xS6l2ciw4J1f"
      },
      "execution_count": null,
      "outputs": []
    },
    {
      "cell_type": "code",
      "source": [
        "product = dataset[dataset[\"Sub-Category\"] == \"Copiers\"]\n",
        "# Grouping the data by Region\n",
        "region_group = product.groupby([\"Region\"]).mean()[[\"Sales\", \"Profit\"]]\n",
        "# Ploting\n",
        "region_group.plot(kind=\"bar\")\n",
        "plt.show()"
      ],
      "metadata": {
        "id": "fM60Yw9W5hMh"
      },
      "execution_count": null,
      "outputs": []
    },
    {
      "cell_type": "markdown",
      "source": [
        "The analysis highlights an interesting trend between the regions. The East Region records the highest sales, indicating strong consumer demand and extensive market reach. However, the Central Region leads in profits, suggesting that this region is particularly effective in managing costs, optimizing pricing, or selling higher-margin products."
      ],
      "metadata": {
        "id": "rRsSIYDMptDT"
      }
    },
    {
      "cell_type": "markdown",
      "source": [
        "##Profit according to the category of Products"
      ],
      "metadata": {
        "id": "aAWcQ5CqwdEP"
      }
    },
    {
      "cell_type": "code",
      "source": [
        "#pie graph for representation of profit\n",
        "dataset.groupby(\"Category\")[\"Profit\"].sum().plot.pie(autopct=\"%1.0f%%\")"
      ],
      "metadata": {
        "id": "TIOddH4wQWA6"
      },
      "execution_count": null,
      "outputs": []
    },
    {
      "cell_type": "code",
      "source": [
        "plt.figure()\n",
        "ax = sns.stripplot(y='Category', x='Profit', data=dataset)\n",
        "plt.tight_layout()"
      ],
      "metadata": {
        "id": "WNB0MKk1BBRd"
      },
      "execution_count": null,
      "outputs": []
    },
    {
      "cell_type": "markdown",
      "source": [
        "##Sales according to the category of Products"
      ],
      "metadata": {
        "id": "rRjQQWt3wqo2"
      }
    },
    {
      "cell_type": "code",
      "source": [
        "#Pie graph for representation of Sales\n",
        "dataset.groupby(\"Category\")[\"Sales\"].sum().plot.pie(autopct=\"%1.0f%%\")"
      ],
      "metadata": {
        "id": "IQAoqOvrQOFr"
      },
      "execution_count": null,
      "outputs": []
    },
    {
      "cell_type": "code",
      "source": [
        "plt.figure()\n",
        "ax = sns.stripplot(y='Category', x='Sales', data=dataset)\n",
        "plt.tight_layout()"
      ],
      "metadata": {
        "id": "oC-Rqv367X30"
      },
      "execution_count": null,
      "outputs": []
    },
    {
      "cell_type": "markdown",
      "source": [
        "##Conclusion"
      ],
      "metadata": {
        "id": "YRGq8hCHwvjq"
      }
    },
    {
      "cell_type": "markdown",
      "source": [
        "####These are the top 5 Cities with most Profits:\n",
        "*   New York City\n",
        "*   Los Angeles\n",
        "*   Seattle\n",
        "*   San Francisco\n",
        "*   Detroit  \n",
        "\n",
        "####These are the top 5 States with most Profits:\n",
        "\n",
        "*   California\n",
        "*   New York\n",
        "*   Washington\n",
        "*   Michigan\n",
        "*   virginia\n",
        "\n",
        "####These are the top 5 selling Products:\n",
        "\n",
        "*   Phones\n",
        "*   Chairs\n",
        "*   Storage\n",
        "*   Tables\n",
        "*   Binders\n",
        "\n",
        "####These are the top 5 profit Products:\n",
        "*   Copiers\n",
        "*   Phones\n",
        "*   Accessories\n",
        "*   Papers\n",
        "*   Binders\n",
        "\n",
        "####The East Region has most sales but the Central Region is leading in profits after selling the products.\n",
        "\n",
        "####Based on the provided Sales and Profit analysis of the Superstore Data, we can draw several significant conclusions.\n",
        "####In conclusion, the sales and profit analysis reveals valuable insights into the Superstore's performance. It showcases the most profitable cities, states, and products, as well as the regional variations in sales and profitability. Armed with this information, the Superstore can make informed business decisions to further enhance its operations and capitalize on its strengths to drive sustainable growth and success."
      ],
      "metadata": {
        "id": "HsmSO4oQw1Gg"
      }
    },
    {
      "cell_type": "code",
      "source": [],
      "metadata": {
        "id": "ZiRDObTvmOie"
      },
      "execution_count": null,
      "outputs": []
    }
  ]
}